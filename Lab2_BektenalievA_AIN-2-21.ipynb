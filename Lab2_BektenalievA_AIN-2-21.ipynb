{
 "cells": [
  {
   "cell_type": "markdown",
   "id": "692fb903-4c62-41c2-a330-7e37d149772c",
   "metadata": {},
   "source": [
    "# Использование команд библиотеки NumPy"
   ]
  },
  {
   "cell_type": "code",
   "execution_count": 49,
   "id": "d35e6966",
   "metadata": {
    "tags": []
   },
   "outputs": [],
   "source": [
    "import numpy as np"
   ]
  },
  {
   "cell_type": "markdown",
   "id": "aa9996de-5a67-41c6-9ed6-3a7d1362d4bf",
   "metadata": {},
   "source": [
    "## Создайте одномерный массив my_array, в котором по порядку все числа до 100, кратные 5"
   ]
  },
  {
   "cell_type": "code",
   "execution_count": 50,
   "id": "35fb7128-fe68-43ae-b8a9-5c53ce626911",
   "metadata": {
    "tags": []
   },
   "outputs": [
    {
     "name": "stdout",
     "output_type": "stream",
     "text": [
      "[  5  10  15  20  25  30  35  40  45  50  55  60  65  70  75  80  85  90\n",
      "  95 100]\n"
     ]
    }
   ],
   "source": [
    "my_array = np.arange(5, 101, 5)\n",
    "print(my_array)"
   ]
  },
  {
   "cell_type": "markdown",
   "id": "80563827-151a-4ef1-a0c3-6033f7f76aa5",
   "metadata": {},
   "source": [
    "## Из полученного массива получить массив с кратными 10 числами"
   ]
  },
  {
   "cell_type": "code",
   "execution_count": 62,
   "id": "f3bff08b-8cad-4fe1-96dc-74660160ca93",
   "metadata": {
    "tags": []
   },
   "outputs": [
    {
     "name": "stdout",
     "output_type": "stream",
     "text": [
      "[ 10  20  30  40  50  60  70  80  90 100]\n",
      "[ 5 15 25 35 45 55 65 75 85 95]\n"
     ]
    }
   ],
   "source": [
    "my_array_10 = my_array[my_array % 10 == 0]\n",
    "my_array_5 = my_array = my_array[my_array % 10 != 0]\n",
    "print (my_array_10)\n",
    "print(my_array_5)"
   ]
  },
  {
   "cell_type": "markdown",
   "id": "3bea2169-cebe-4026-adce-88deb3927c9f",
   "metadata": {
    "tags": []
   },
   "source": [
    "## Получить двумерный массив с двумя столбцами"
   ]
  },
  {
   "cell_type": "code",
   "execution_count": 65,
   "id": "37c8265f-4e8c-42c9-abc1-bf5b525a70c9",
   "metadata": {
    "tags": []
   },
   "outputs": [
    {
     "name": "stdout",
     "output_type": "stream",
     "text": [
      "[[  5  10]\n",
      " [ 15  20]\n",
      " [ 25  30]\n",
      " [ 35  40]\n",
      " [ 45  50]\n",
      " [ 55  60]\n",
      " [ 65  70]\n",
      " [ 75  80]\n",
      " [ 85  90]\n",
      " [ 95 100]]\n"
     ]
    }
   ],
   "source": [
    "two_column_array = np.column_stack((my_array_5, my_array_10))\n",
    "print(two_column_array)"
   ]
  },
  {
   "cell_type": "markdown",
   "id": "3d1bc874-2bbf-45f4-a029-8500de4ea235",
   "metadata": {},
   "source": [
    "## Получите набор my_second_array, в котором все элементы меньше предыдущего исходного на 5"
   ]
  },
  {
   "cell_type": "code",
   "execution_count": 70,
   "id": "1d1d69e8",
   "metadata": {
    "tags": []
   },
   "outputs": [
    {
     "name": "stdout",
     "output_type": "stream",
     "text": [
      "[[ 0  5]\n",
      " [10 15]\n",
      " [20 25]\n",
      " [30 35]\n",
      " [40 45]\n",
      " [50 55]\n",
      " [60 65]\n",
      " [70 75]\n",
      " [80 85]\n",
      " [90 95]]\n"
     ]
    }
   ],
   "source": [
    "my_second_array=two_column_array-5\n",
    "print(my_second_array)"
   ]
  },
  {
   "cell_type": "markdown",
   "id": "8c0bae7f-551f-4476-a16f-221562f70945",
   "metadata": {},
   "source": [
    "## Соедините массивы, полученные в п. 3.1 и 4.1, горизонтально. Используйте .T для транспонирования матрицы. "
   ]
  },
  {
   "cell_type": "code",
   "execution_count": 71,
   "id": "af7cc90c-fe5d-476b-bd60-5371b4b47bec",
   "metadata": {
    "tags": []
   },
   "outputs": [
    {
     "ename": "ValueError",
     "evalue": "all the input array dimensions except for the concatenation axis must match exactly, but along dimension 0, the array at index 0 has size 10 and the array at index 1 has size 20",
     "output_type": "error",
     "traceback": [
      "\u001b[0;31m---------------------------------------------------------------------------\u001b[0m",
      "\u001b[0;31mValueError\u001b[0m                                Traceback (most recent call last)",
      "Cell \u001b[0;32mIn[71], line 1\u001b[0m\n\u001b[0;32m----> 1\u001b[0m combined_array \u001b[38;5;241m=\u001b[39m np\u001b[38;5;241m.\u001b[39mhstack((two_column_array, my_second_array\u001b[38;5;241m.\u001b[39mreshape(\u001b[38;5;241m-\u001b[39m\u001b[38;5;241m1\u001b[39m, \u001b[38;5;241m1\u001b[39m)))\u001b[38;5;241m.\u001b[39mT\n\u001b[1;32m      2\u001b[0m \u001b[38;5;28mprint\u001b[39m (combined_array)\n",
      "File \u001b[0;32m<__array_function__ internals>:200\u001b[0m, in \u001b[0;36mhstack\u001b[0;34m(*args, **kwargs)\u001b[0m\n",
      "File \u001b[0;32m~/anaconda3/lib/python3.11/site-packages/numpy/core/shape_base.py:370\u001b[0m, in \u001b[0;36mhstack\u001b[0;34m(tup, dtype, casting)\u001b[0m\n\u001b[1;32m    368\u001b[0m     \u001b[38;5;28;01mreturn\u001b[39;00m _nx\u001b[38;5;241m.\u001b[39mconcatenate(arrs, \u001b[38;5;241m0\u001b[39m, dtype\u001b[38;5;241m=\u001b[39mdtype, casting\u001b[38;5;241m=\u001b[39mcasting)\n\u001b[1;32m    369\u001b[0m \u001b[38;5;28;01melse\u001b[39;00m:\n\u001b[0;32m--> 370\u001b[0m     \u001b[38;5;28;01mreturn\u001b[39;00m _nx\u001b[38;5;241m.\u001b[39mconcatenate(arrs, \u001b[38;5;241m1\u001b[39m, dtype\u001b[38;5;241m=\u001b[39mdtype, casting\u001b[38;5;241m=\u001b[39mcasting)\n",
      "File \u001b[0;32m<__array_function__ internals>:200\u001b[0m, in \u001b[0;36mconcatenate\u001b[0;34m(*args, **kwargs)\u001b[0m\n",
      "\u001b[0;31mValueError\u001b[0m: all the input array dimensions except for the concatenation axis must match exactly, but along dimension 0, the array at index 0 has size 10 and the array at index 1 has size 20"
     ]
    }
   ],
   "source": [
    "combined_array = np.hstack((two_column_array, my_second_array.reshape(-1, 1))).T\n",
    "print (combined_array)"
   ]
  },
  {
   "cell_type": "code",
   "execution_count": null,
   "id": "65f8dbb3-a5c6-412f-90f8-d97a820d6d14",
   "metadata": {},
   "outputs": [],
   "source": [
    "two_column_array = np.column_stack((my_array, my_array_10))"
   ]
  },
  {
   "cell_type": "markdown",
   "id": "524fd90a-a3ae-4ddc-a820-acf9f9036c2d",
   "metadata": {},
   "source": [
    "# Использование библиотеки Pandas"
   ]
  },
  {
   "cell_type": "code",
   "execution_count": 3,
   "id": "2c913f14-3ef2-44dd-835e-2720069da7c4",
   "metadata": {
    "tags": []
   },
   "outputs": [],
   "source": [
    "import pandas as pd\n",
    "import openpyxl"
   ]
  },
  {
   "cell_type": "markdown",
   "id": "ee9a455f-ebc3-43f5-bd84-dac9ecdaba8d",
   "metadata": {},
   "source": [
    "## Импортируйте данные из файла “Global Population Trends(2016-2022).csv”. Описание данных смотрите ниже."
   ]
  },
  {
   "cell_type": "code",
   "execution_count": 4,
   "id": "966f027b-e9d8-4132-970c-3df6c65d80bc",
   "metadata": {
    "tags": []
   },
   "outputs": [
    {
     "data": {
      "text/html": [
       "<div>\n",
       "<style scoped>\n",
       "    .dataframe tbody tr th:only-of-type {\n",
       "        vertical-align: middle;\n",
       "    }\n",
       "\n",
       "    .dataframe tbody tr th {\n",
       "        vertical-align: top;\n",
       "    }\n",
       "\n",
       "    .dataframe thead th {\n",
       "        text-align: right;\n",
       "    }\n",
       "</style>\n",
       "<table border=\"1\" class=\"dataframe\">\n",
       "  <thead>\n",
       "    <tr style=\"text-align: right;\">\n",
       "      <th></th>\n",
       "      <th>Country</th>\n",
       "      <th>Year</th>\n",
       "      <th>Total Population</th>\n",
       "      <th>Urban Population</th>\n",
       "      <th>Rural Population</th>\n",
       "      <th>Population Density</th>\n",
       "      <th>Life Expectancy</th>\n",
       "      <th>Birth Rate</th>\n",
       "      <th>Death Rate</th>\n",
       "      <th>Fertility Rate</th>\n",
       "      <th>Infant Mortality Rate</th>\n",
       "      <th>Growth Rate</th>\n",
       "    </tr>\n",
       "  </thead>\n",
       "  <tbody>\n",
       "    <tr>\n",
       "      <th>0</th>\n",
       "      <td>Afghanistan</td>\n",
       "      <td>2017</td>\n",
       "      <td>-</td>\n",
       "      <td>-</td>\n",
       "      <td>-</td>\n",
       "      <td>55</td>\n",
       "      <td>63.0</td>\n",
       "      <td>37.342</td>\n",
       "      <td>7.027</td>\n",
       "      <td>5.129</td>\n",
       "      <td>49.4</td>\n",
       "      <td>-</td>\n",
       "    </tr>\n",
       "    <tr>\n",
       "      <th>1</th>\n",
       "      <td>Afghanistan</td>\n",
       "      <td>2018</td>\n",
       "      <td>36,686,784</td>\n",
       "      <td>9,353,296</td>\n",
       "      <td>27,333,488</td>\n",
       "      <td>56</td>\n",
       "      <td>63.0</td>\n",
       "      <td>36.927</td>\n",
       "      <td>6.981</td>\n",
       "      <td>5.002</td>\n",
       "      <td>47.8</td>\n",
       "      <td>3.0</td>\n",
       "    </tr>\n",
       "    <tr>\n",
       "      <th>2</th>\n",
       "      <td>Afghanistan</td>\n",
       "      <td>2019</td>\n",
       "      <td>37,769,499</td>\n",
       "      <td>9,727,157</td>\n",
       "      <td>28,042,342</td>\n",
       "      <td>58</td>\n",
       "      <td>64.0</td>\n",
       "      <td>36.466</td>\n",
       "      <td>6.791</td>\n",
       "      <td>4.87</td>\n",
       "      <td>46.3</td>\n",
       "      <td>3.0</td>\n",
       "    </tr>\n",
       "    <tr>\n",
       "      <th>3</th>\n",
       "      <td>Afghanistan</td>\n",
       "      <td>2020</td>\n",
       "      <td>38,972,230</td>\n",
       "      <td>10,142,913</td>\n",
       "      <td>28,829,317</td>\n",
       "      <td>60</td>\n",
       "      <td>63.0</td>\n",
       "      <td>36.051</td>\n",
       "      <td>7.113</td>\n",
       "      <td>4.75</td>\n",
       "      <td>44.8</td>\n",
       "      <td>3.0</td>\n",
       "    </tr>\n",
       "    <tr>\n",
       "      <th>4</th>\n",
       "      <td>Afghanistan</td>\n",
       "      <td>2021</td>\n",
       "      <td>40,099,462</td>\n",
       "      <td>10,551,772</td>\n",
       "      <td>29,547,690</td>\n",
       "      <td>-</td>\n",
       "      <td>62.0</td>\n",
       "      <td>35.842</td>\n",
       "      <td>7.344</td>\n",
       "      <td>4.643</td>\n",
       "      <td>43.4</td>\n",
       "      <td>3.0</td>\n",
       "    </tr>\n",
       "    <tr>\n",
       "      <th>...</th>\n",
       "      <td>...</td>\n",
       "      <td>...</td>\n",
       "      <td>...</td>\n",
       "      <td>...</td>\n",
       "      <td>...</td>\n",
       "      <td>...</td>\n",
       "      <td>...</td>\n",
       "      <td>...</td>\n",
       "      <td>...</td>\n",
       "      <td>...</td>\n",
       "      <td>...</td>\n",
       "      <td>...</td>\n",
       "    </tr>\n",
       "    <tr>\n",
       "      <th>1068</th>\n",
       "      <td>Zimbabwe</td>\n",
       "      <td>2017</td>\n",
       "      <td>-</td>\n",
       "      <td>-</td>\n",
       "      <td>-</td>\n",
       "      <td>38</td>\n",
       "      <td>61.0</td>\n",
       "      <td>32.516</td>\n",
       "      <td>8.266</td>\n",
       "      <td>3.706</td>\n",
       "      <td>39.5</td>\n",
       "      <td>-</td>\n",
       "    </tr>\n",
       "    <tr>\n",
       "      <th>1069</th>\n",
       "      <td>Zimbabwe</td>\n",
       "      <td>2018</td>\n",
       "      <td>15,052,184</td>\n",
       "      <td>4,848,158</td>\n",
       "      <td>10,204,026</td>\n",
       "      <td>39</td>\n",
       "      <td>61.0</td>\n",
       "      <td>32.074</td>\n",
       "      <td>7.972</td>\n",
       "      <td>3.659</td>\n",
       "      <td>38.0</td>\n",
       "      <td>2.0</td>\n",
       "    </tr>\n",
       "    <tr>\n",
       "      <th>1070</th>\n",
       "      <td>Zimbabwe</td>\n",
       "      <td>2019</td>\n",
       "      <td>15,354,608</td>\n",
       "      <td>4,945,719</td>\n",
       "      <td>10,408,889</td>\n",
       "      <td>40</td>\n",
       "      <td>61.0</td>\n",
       "      <td>31.518</td>\n",
       "      <td>8.043</td>\n",
       "      <td>3.599</td>\n",
       "      <td>37.1</td>\n",
       "      <td>2.0</td>\n",
       "    </tr>\n",
       "    <tr>\n",
       "      <th>1071</th>\n",
       "      <td>Zimbabwe</td>\n",
       "      <td>2020</td>\n",
       "      <td>15,669,666</td>\n",
       "      <td>5,052,214</td>\n",
       "      <td>10,617,452</td>\n",
       "      <td>41</td>\n",
       "      <td>61.0</td>\n",
       "      <td>31.009</td>\n",
       "      <td>8.132</td>\n",
       "      <td>3.545</td>\n",
       "      <td>36.6</td>\n",
       "      <td>2.0</td>\n",
       "    </tr>\n",
       "    <tr>\n",
       "      <th>1072</th>\n",
       "      <td>Zimbabwe</td>\n",
       "      <td>2021</td>\n",
       "      <td>15,993,524</td>\n",
       "      <td>5,166,388</td>\n",
       "      <td>10,827,136</td>\n",
       "      <td>-</td>\n",
       "      <td>59.0</td>\n",
       "      <td>30.537</td>\n",
       "      <td>9.057</td>\n",
       "      <td>3.491</td>\n",
       "      <td>35.7</td>\n",
       "      <td>2.0</td>\n",
       "    </tr>\n",
       "  </tbody>\n",
       "</table>\n",
       "<p>1073 rows × 12 columns</p>\n",
       "</div>"
      ],
      "text/plain": [
       "          Country  Year Total Population Urban Population Rural Population  \\\n",
       "0     Afghanistan  2017                -                -                -   \n",
       "1     Afghanistan  2018       36,686,784        9,353,296       27,333,488   \n",
       "2     Afghanistan  2019       37,769,499        9,727,157       28,042,342   \n",
       "3     Afghanistan  2020       38,972,230       10,142,913       28,829,317   \n",
       "4     Afghanistan  2021       40,099,462       10,551,772       29,547,690   \n",
       "...           ...   ...              ...              ...              ...   \n",
       "1068     Zimbabwe  2017                -                -                -   \n",
       "1069     Zimbabwe  2018       15,052,184        4,848,158       10,204,026   \n",
       "1070     Zimbabwe  2019       15,354,608        4,945,719       10,408,889   \n",
       "1071     Zimbabwe  2020       15,669,666        5,052,214       10,617,452   \n",
       "1072     Zimbabwe  2021       15,993,524        5,166,388       10,827,136   \n",
       "\n",
       "     Population Density Life Expectancy  Birth Rate  Death Rate  \\\n",
       "0                    55            63.0      37.342       7.027   \n",
       "1                    56            63.0      36.927       6.981   \n",
       "2                    58            64.0      36.466       6.791   \n",
       "3                    60            63.0      36.051       7.113   \n",
       "4                     -            62.0      35.842       7.344   \n",
       "...                 ...             ...         ...         ...   \n",
       "1068                 38            61.0      32.516       8.266   \n",
       "1069                 39            61.0      32.074       7.972   \n",
       "1070                 40            61.0      31.518       8.043   \n",
       "1071                 41            61.0      31.009       8.132   \n",
       "1072                  -            59.0      30.537       9.057   \n",
       "\n",
       "     Fertility Rate Infant Mortality Rate Growth Rate  \n",
       "0             5.129                  49.4           -  \n",
       "1             5.002                  47.8         3.0  \n",
       "2              4.87                  46.3         3.0  \n",
       "3              4.75                  44.8         3.0  \n",
       "4             4.643                  43.4         3.0  \n",
       "...             ...                   ...         ...  \n",
       "1068          3.706                  39.5           -  \n",
       "1069          3.659                  38.0         2.0  \n",
       "1070          3.599                  37.1         2.0  \n",
       "1071          3.545                  36.6         2.0  \n",
       "1072          3.491                  35.7         2.0  \n",
       "\n",
       "[1073 rows x 12 columns]"
      ]
     },
     "execution_count": 4,
     "metadata": {},
     "output_type": "execute_result"
    }
   ],
   "source": [
    "gbt=pd.read_csv('Global Population Trends(2016-2022).csv')\n",
    "gbt"
   ]
  },
  {
   "cell_type": "markdown",
   "id": "70c310a7-63dd-4106-aa1a-ab6178284d3b",
   "metadata": {
    "tags": []
   },
   "source": [
    "##  Считайте несколько первых записей таблицы (head())"
   ]
  },
  {
   "cell_type": "code",
   "execution_count": 55,
   "id": "2f8ec469-efbc-4dc8-8d8f-98f22aac99ca",
   "metadata": {
    "tags": []
   },
   "outputs": [
    {
     "data": {
      "text/html": [
       "<div>\n",
       "<style scoped>\n",
       "    .dataframe tbody tr th:only-of-type {\n",
       "        vertical-align: middle;\n",
       "    }\n",
       "\n",
       "    .dataframe tbody tr th {\n",
       "        vertical-align: top;\n",
       "    }\n",
       "\n",
       "    .dataframe thead th {\n",
       "        text-align: right;\n",
       "    }\n",
       "</style>\n",
       "<table border=\"1\" class=\"dataframe\">\n",
       "  <thead>\n",
       "    <tr style=\"text-align: right;\">\n",
       "      <th></th>\n",
       "      <th>Country</th>\n",
       "      <th>Year</th>\n",
       "      <th>Total Population</th>\n",
       "      <th>Urban Population</th>\n",
       "      <th>Rural Population</th>\n",
       "      <th>Population Density</th>\n",
       "      <th>Life Expectancy</th>\n",
       "      <th>Birth Rate</th>\n",
       "      <th>Death Rate</th>\n",
       "      <th>Fertility Rate</th>\n",
       "      <th>Infant Mortality Rate</th>\n",
       "      <th>Growth Rate</th>\n",
       "    </tr>\n",
       "  </thead>\n",
       "  <tbody>\n",
       "    <tr>\n",
       "      <th>0</th>\n",
       "      <td>Afghanistan</td>\n",
       "      <td>2017</td>\n",
       "      <td>-</td>\n",
       "      <td>-</td>\n",
       "      <td>-</td>\n",
       "      <td>55</td>\n",
       "      <td>63.0</td>\n",
       "      <td>37.342</td>\n",
       "      <td>7.027</td>\n",
       "      <td>5.129</td>\n",
       "      <td>49.4</td>\n",
       "      <td>-</td>\n",
       "    </tr>\n",
       "    <tr>\n",
       "      <th>1</th>\n",
       "      <td>Afghanistan</td>\n",
       "      <td>2018</td>\n",
       "      <td>36,686,784</td>\n",
       "      <td>9,353,296</td>\n",
       "      <td>27,333,488</td>\n",
       "      <td>56</td>\n",
       "      <td>63.0</td>\n",
       "      <td>36.927</td>\n",
       "      <td>6.981</td>\n",
       "      <td>5.002</td>\n",
       "      <td>47.8</td>\n",
       "      <td>3.0</td>\n",
       "    </tr>\n",
       "    <tr>\n",
       "      <th>2</th>\n",
       "      <td>Afghanistan</td>\n",
       "      <td>2019</td>\n",
       "      <td>37,769,499</td>\n",
       "      <td>9,727,157</td>\n",
       "      <td>28,042,342</td>\n",
       "      <td>58</td>\n",
       "      <td>64.0</td>\n",
       "      <td>36.466</td>\n",
       "      <td>6.791</td>\n",
       "      <td>4.87</td>\n",
       "      <td>46.3</td>\n",
       "      <td>3.0</td>\n",
       "    </tr>\n",
       "    <tr>\n",
       "      <th>3</th>\n",
       "      <td>Afghanistan</td>\n",
       "      <td>2020</td>\n",
       "      <td>38,972,230</td>\n",
       "      <td>10,142,913</td>\n",
       "      <td>28,829,317</td>\n",
       "      <td>60</td>\n",
       "      <td>63.0</td>\n",
       "      <td>36.051</td>\n",
       "      <td>7.113</td>\n",
       "      <td>4.75</td>\n",
       "      <td>44.8</td>\n",
       "      <td>3.0</td>\n",
       "    </tr>\n",
       "    <tr>\n",
       "      <th>4</th>\n",
       "      <td>Afghanistan</td>\n",
       "      <td>2021</td>\n",
       "      <td>40,099,462</td>\n",
       "      <td>10,551,772</td>\n",
       "      <td>29,547,690</td>\n",
       "      <td>-</td>\n",
       "      <td>62.0</td>\n",
       "      <td>35.842</td>\n",
       "      <td>7.344</td>\n",
       "      <td>4.643</td>\n",
       "      <td>43.4</td>\n",
       "      <td>3.0</td>\n",
       "    </tr>\n",
       "  </tbody>\n",
       "</table>\n",
       "</div>"
      ],
      "text/plain": [
       "       Country  Year Total Population Urban Population Rural Population  \\\n",
       "0  Afghanistan  2017                -                -                -   \n",
       "1  Afghanistan  2018       36,686,784        9,353,296       27,333,488   \n",
       "2  Afghanistan  2019       37,769,499        9,727,157       28,042,342   \n",
       "3  Afghanistan  2020       38,972,230       10,142,913       28,829,317   \n",
       "4  Afghanistan  2021       40,099,462       10,551,772       29,547,690   \n",
       "\n",
       "  Population Density Life Expectancy  Birth Rate  Death Rate Fertility Rate  \\\n",
       "0                 55            63.0      37.342       7.027          5.129   \n",
       "1                 56            63.0      36.927       6.981          5.002   \n",
       "2                 58            64.0      36.466       6.791           4.87   \n",
       "3                 60            63.0      36.051       7.113           4.75   \n",
       "4                  -            62.0      35.842       7.344          4.643   \n",
       "\n",
       "  Infant Mortality Rate Growth Rate  \n",
       "0                  49.4           -  \n",
       "1                  47.8         3.0  \n",
       "2                  46.3         3.0  \n",
       "3                  44.8         3.0  \n",
       "4                  43.4         3.0  "
      ]
     },
     "execution_count": 55,
     "metadata": {},
     "output_type": "execute_result"
    }
   ],
   "source": [
    "gbt.head()"
   ]
  },
  {
   "cell_type": "markdown",
   "id": "0063e760-57a8-410e-aef7-46955295ba16",
   "metadata": {},
   "source": [
    "## Определите размерность данного фрейма (shape)"
   ]
  },
  {
   "cell_type": "code",
   "execution_count": 60,
   "id": "e405991a-cc0e-4299-89e3-16749dd4fe4e",
   "metadata": {
    "tags": []
   },
   "outputs": [
    {
     "name": "stdout",
     "output_type": "stream",
     "text": [
      "(1073, 12)\n"
     ]
    }
   ],
   "source": [
    "print(gbt.shape)"
   ]
  },
  {
   "cell_type": "markdown",
   "id": "2b4862f6-0a1b-47c4-b4d9-eb7d5e4d71a7",
   "metadata": {
    "tags": []
   },
   "source": [
    "## Выведите название заголовков столбцов фрейма (columns)"
   ]
  },
  {
   "cell_type": "code",
   "execution_count": 63,
   "id": "14344bbf-d522-409c-bb04-103e4f6b63e3",
   "metadata": {
    "tags": []
   },
   "outputs": [
    {
     "data": {
      "text/plain": [
       "Index(['Country', 'Year', 'Total Population', 'Urban Population',\n",
       "       'Rural Population', 'Population Density', 'Life Expectancy',\n",
       "       'Birth Rate', 'Death Rate', 'Fertility Rate', 'Infant Mortality Rate',\n",
       "       'Growth Rate'],\n",
       "      dtype='object')"
      ]
     },
     "execution_count": 63,
     "metadata": {},
     "output_type": "execute_result"
    }
   ],
   "source": [
    "gbt.columns"
   ]
  },
  {
   "cell_type": "markdown",
   "id": "eb7b7b2f-b805-411f-80a0-92504caa6287",
   "metadata": {},
   "source": [
    "## Получите описание всех переменных (полей) (info())"
   ]
  },
  {
   "cell_type": "code",
   "execution_count": 65,
   "id": "9d9eef52-beee-4b30-ac5e-1ea0950ece84",
   "metadata": {
    "tags": []
   },
   "outputs": [
    {
     "name": "stdout",
     "output_type": "stream",
     "text": [
      "<class 'pandas.core.frame.DataFrame'>\n",
      "RangeIndex: 1073 entries, 0 to 1072\n",
      "Data columns (total 12 columns):\n",
      " #   Column                 Non-Null Count  Dtype  \n",
      "---  ------                 --------------  -----  \n",
      " 0   Country                1073 non-null   object \n",
      " 1   Year                   1073 non-null   int64  \n",
      " 2   Total Population       1073 non-null   object \n",
      " 3   Urban Population       1073 non-null   object \n",
      " 4   Rural Population       1073 non-null   object \n",
      " 5   Population Density     1073 non-null   object \n",
      " 6   Life Expectancy        1073 non-null   object \n",
      " 7   Birth Rate             1073 non-null   float64\n",
      " 8   Death Rate             1073 non-null   float64\n",
      " 9   Fertility Rate         1073 non-null   object \n",
      " 10  Infant Mortality Rate  1073 non-null   object \n",
      " 11  Growth Rate            1073 non-null   object \n",
      "dtypes: float64(2), int64(1), object(9)\n",
      "memory usage: 100.7+ KB\n"
     ]
    }
   ],
   "source": [
    "gbt.info()"
   ]
  },
  {
   "cell_type": "markdown",
   "id": "09a93627-48fb-4a4e-83eb-3163fa689675",
   "metadata": {
    "tags": []
   },
   "source": [
    "##  Удалите строки, не содержащие значения в столбце «Total Population» - “-” "
   ]
  },
  {
   "cell_type": "code",
   "execution_count": 33,
   "id": "33efba12-7edf-4013-b4bb-3803a92b86ef",
   "metadata": {
    "tags": []
   },
   "outputs": [
    {
     "name": "stdout",
     "output_type": "stream",
     "text": [
      "(864, 12)\n"
     ]
    }
   ],
   "source": [
    "gbt1=gbt[gbt['Total Population']!='-']\n",
    "print(gbt1.shape)\n",
    "pd.options.mode.chained_assignment = None\n",
    "gbt1.loc[:, 'Total Population'] = gbt1['Total Population'].str.replace(',', '')\n",
    "\n",
    "gbt1['Total Population'] = gbt1['Total Population'].astype(int)"
   ]
  },
  {
   "cell_type": "markdown",
   "id": "d0c6bf6c-878e-48b1-b747-406aa50d5fbc",
   "metadata": {},
   "source": [
    "## Получите описательную статистику по переменным (например, max(), min(), describe())"
   ]
  },
  {
   "cell_type": "code",
   "execution_count": 35,
   "id": "c7e0ce12-aabf-4a66-9621-da3086214694",
   "metadata": {
    "tags": []
   },
   "outputs": [
    {
     "data": {
      "text/plain": [
       "Country                    Zimbabwe\n",
       "Year                           2021\n",
       "Total Population         1412360000\n",
       "Urban Population         99,876,265\n",
       "Rural Population            998,397\n",
       "Population Density               99\n",
       "Life Expectancy                85.0\n",
       "Birth Rate                   46.127\n",
       "Death Rate                     21.7\n",
       "Fertility Rate                7.023\n",
       "Infant Mortality Rate           9.9\n",
       "Growth Rate                     5.0\n",
       "dtype: object"
      ]
     },
     "execution_count": 35,
     "metadata": {},
     "output_type": "execute_result"
    }
   ],
   "source": [
    "gbt1.max()"
   ]
  },
  {
   "cell_type": "code",
   "execution_count": 77,
   "id": "68905f34-1832-47fe-8635-19c38c37b1a3",
   "metadata": {
    "tags": []
   },
   "outputs": [
    {
     "data": {
      "text/plain": [
       "Country                  Afghanistan\n",
       "Year                            2018\n",
       "Total Population           1,057,198\n",
       "Urban Population                   -\n",
       "Rural Population                   -\n",
       "Population Density                 -\n",
       "Life Expectancy                    -\n",
       "Birth Rate                       0.0\n",
       "Death Rate                       0.0\n",
       "Fertility Rate                     -\n",
       "Infant Mortality Rate              -\n",
       "Growth Rate                     -1.0\n",
       "dtype: object"
      ]
     },
     "execution_count": 77,
     "metadata": {},
     "output_type": "execute_result"
    }
   ],
   "source": [
    "gbt1.min()"
   ]
  },
  {
   "cell_type": "code",
   "execution_count": 43,
   "id": "7544a225-2703-432d-a8d4-94bce6b2298d",
   "metadata": {
    "tags": []
   },
   "outputs": [
    {
     "data": {
      "text/html": [
       "<div>\n",
       "<style scoped>\n",
       "    .dataframe tbody tr th:only-of-type {\n",
       "        vertical-align: middle;\n",
       "    }\n",
       "\n",
       "    .dataframe tbody tr th {\n",
       "        vertical-align: top;\n",
       "    }\n",
       "\n",
       "    .dataframe thead th {\n",
       "        text-align: right;\n",
       "    }\n",
       "</style>\n",
       "<table border=\"1\" class=\"dataframe\">\n",
       "  <thead>\n",
       "    <tr style=\"text-align: right;\">\n",
       "      <th></th>\n",
       "      <th>Year</th>\n",
       "      <th>Total Population</th>\n",
       "      <th>Birth Rate</th>\n",
       "      <th>Death Rate</th>\n",
       "    </tr>\n",
       "  </thead>\n",
       "  <tbody>\n",
       "    <tr>\n",
       "      <th>count</th>\n",
       "      <td>864.000000</td>\n",
       "      <td>8.640000e+02</td>\n",
       "      <td>864.000000</td>\n",
       "      <td>864.000000</td>\n",
       "    </tr>\n",
       "    <tr>\n",
       "      <th>mean</th>\n",
       "      <td>2019.500000</td>\n",
       "      <td>3.577942e+07</td>\n",
       "      <td>18.548384</td>\n",
       "      <td>7.889123</td>\n",
       "    </tr>\n",
       "    <tr>\n",
       "      <th>std</th>\n",
       "      <td>1.118682</td>\n",
       "      <td>1.393935e+08</td>\n",
       "      <td>9.887518</td>\n",
       "      <td>3.041385</td>\n",
       "    </tr>\n",
       "    <tr>\n",
       "      <th>min</th>\n",
       "      <td>2018.000000</td>\n",
       "      <td>1.086500e+04</td>\n",
       "      <td>0.000000</td>\n",
       "      <td>0.000000</td>\n",
       "    </tr>\n",
       "    <tr>\n",
       "      <th>25%</th>\n",
       "      <td>2018.750000</td>\n",
       "      <td>7.771928e+05</td>\n",
       "      <td>10.500000</td>\n",
       "      <td>6.116500</td>\n",
       "    </tr>\n",
       "    <tr>\n",
       "      <th>50%</th>\n",
       "      <td>2019.500000</td>\n",
       "      <td>6.332328e+06</td>\n",
       "      <td>15.628500</td>\n",
       "      <td>7.453500</td>\n",
       "    </tr>\n",
       "    <tr>\n",
       "      <th>75%</th>\n",
       "      <td>2020.250000</td>\n",
       "      <td>2.499417e+07</td>\n",
       "      <td>25.565000</td>\n",
       "      <td>9.385000</td>\n",
       "    </tr>\n",
       "    <tr>\n",
       "      <th>max</th>\n",
       "      <td>2021.000000</td>\n",
       "      <td>1.412360e+09</td>\n",
       "      <td>46.127000</td>\n",
       "      <td>21.700000</td>\n",
       "    </tr>\n",
       "  </tbody>\n",
       "</table>\n",
       "</div>"
      ],
      "text/plain": [
       "              Year  Total Population  Birth Rate  Death Rate\n",
       "count   864.000000      8.640000e+02  864.000000  864.000000\n",
       "mean   2019.500000      3.577942e+07   18.548384    7.889123\n",
       "std       1.118682      1.393935e+08    9.887518    3.041385\n",
       "min    2018.000000      1.086500e+04    0.000000    0.000000\n",
       "25%    2018.750000      7.771928e+05   10.500000    6.116500\n",
       "50%    2019.500000      6.332328e+06   15.628500    7.453500\n",
       "75%    2020.250000      2.499417e+07   25.565000    9.385000\n",
       "max    2021.000000      1.412360e+09   46.127000   21.700000"
      ]
     },
     "execution_count": 43,
     "metadata": {},
     "output_type": "execute_result"
    }
   ],
   "source": [
    "gbt1.describe()"
   ]
  },
  {
   "cell_type": "markdown",
   "id": "ee739529-5edc-45c2-af89-f77f46ca834e",
   "metadata": {},
   "source": [
    "## Выполните сортировку данных по нескольким критериям"
   ]
  },
  {
   "cell_type": "code",
   "execution_count": 45,
   "id": "0c316423-c829-4444-a4de-52270136bb8e",
   "metadata": {
    "tags": []
   },
   "outputs": [
    {
     "data": {
      "text/html": [
       "<div>\n",
       "<style scoped>\n",
       "    .dataframe tbody tr th:only-of-type {\n",
       "        vertical-align: middle;\n",
       "    }\n",
       "\n",
       "    .dataframe tbody tr th {\n",
       "        vertical-align: top;\n",
       "    }\n",
       "\n",
       "    .dataframe thead th {\n",
       "        text-align: right;\n",
       "    }\n",
       "</style>\n",
       "<table border=\"1\" class=\"dataframe\">\n",
       "  <thead>\n",
       "    <tr style=\"text-align: right;\">\n",
       "      <th></th>\n",
       "      <th>Country</th>\n",
       "      <th>Year</th>\n",
       "      <th>Total Population</th>\n",
       "      <th>Urban Population</th>\n",
       "      <th>Rural Population</th>\n",
       "      <th>Population Density</th>\n",
       "      <th>Life Expectancy</th>\n",
       "      <th>Birth Rate</th>\n",
       "      <th>Death Rate</th>\n",
       "      <th>Fertility Rate</th>\n",
       "      <th>Infant Mortality Rate</th>\n",
       "      <th>Growth Rate</th>\n",
       "    </tr>\n",
       "  </thead>\n",
       "  <tbody>\n",
       "    <tr>\n",
       "      <th>205</th>\n",
       "      <td>China</td>\n",
       "      <td>2021</td>\n",
       "      <td>1412360000</td>\n",
       "      <td>882,894,483</td>\n",
       "      <td>529,465,517</td>\n",
       "      <td>-</td>\n",
       "      <td>78.0</td>\n",
       "      <td>7.520</td>\n",
       "      <td>7.180</td>\n",
       "      <td>1.164</td>\n",
       "      <td>5.1</td>\n",
       "      <td>0.0</td>\n",
       "    </tr>\n",
       "    <tr>\n",
       "      <th>435</th>\n",
       "      <td>India</td>\n",
       "      <td>2021</td>\n",
       "      <td>1407563842</td>\n",
       "      <td>498,179,071</td>\n",
       "      <td>909,384,771</td>\n",
       "      <td>-</td>\n",
       "      <td>67.0</td>\n",
       "      <td>16.419</td>\n",
       "      <td>9.448</td>\n",
       "      <td>2.031</td>\n",
       "      <td>25.5</td>\n",
       "      <td>1.0</td>\n",
       "    </tr>\n",
       "    <tr>\n",
       "      <th>1022</th>\n",
       "      <td>United States</td>\n",
       "      <td>2021</td>\n",
       "      <td>332031554</td>\n",
       "      <td>275,164,510</td>\n",
       "      <td>56,867,044</td>\n",
       "      <td>-</td>\n",
       "      <td>76.0</td>\n",
       "      <td>11.000</td>\n",
       "      <td>10.400</td>\n",
       "      <td>1.664</td>\n",
       "      <td>5.4</td>\n",
       "      <td>0.0</td>\n",
       "    </tr>\n",
       "    <tr>\n",
       "      <th>440</th>\n",
       "      <td>Indonesia</td>\n",
       "      <td>2021</td>\n",
       "      <td>273753191</td>\n",
       "      <td>156,833,203</td>\n",
       "      <td>116,919,988</td>\n",
       "      <td>-</td>\n",
       "      <td>68.0</td>\n",
       "      <td>16.425</td>\n",
       "      <td>10.065</td>\n",
       "      <td>2.175</td>\n",
       "      <td>18.9</td>\n",
       "      <td>1.0</td>\n",
       "    </tr>\n",
       "    <tr>\n",
       "      <th>728</th>\n",
       "      <td>Pakistan</td>\n",
       "      <td>2021</td>\n",
       "      <td>231402117</td>\n",
       "      <td>86,636,953</td>\n",
       "      <td>144,765,164</td>\n",
       "      <td>-</td>\n",
       "      <td>66.0</td>\n",
       "      <td>27.519</td>\n",
       "      <td>7.168</td>\n",
       "      <td>3.47</td>\n",
       "      <td>52.8</td>\n",
       "      <td>2.0</td>\n",
       "    </tr>\n",
       "  </tbody>\n",
       "</table>\n",
       "</div>"
      ],
      "text/plain": [
       "            Country  Year  Total Population Urban Population Rural Population  \\\n",
       "205           China  2021        1412360000      882,894,483      529,465,517   \n",
       "435           India  2021        1407563842      498,179,071      909,384,771   \n",
       "1022  United States  2021         332031554      275,164,510       56,867,044   \n",
       "440       Indonesia  2021         273753191      156,833,203      116,919,988   \n",
       "728        Pakistan  2021         231402117       86,636,953      144,765,164   \n",
       "\n",
       "     Population Density Life Expectancy  Birth Rate  Death Rate  \\\n",
       "205                   -            78.0       7.520       7.180   \n",
       "435                   -            67.0      16.419       9.448   \n",
       "1022                  -            76.0      11.000      10.400   \n",
       "440                   -            68.0      16.425      10.065   \n",
       "728                   -            66.0      27.519       7.168   \n",
       "\n",
       "     Fertility Rate Infant Mortality Rate Growth Rate  \n",
       "205           1.164                   5.1         0.0  \n",
       "435           2.031                  25.5         1.0  \n",
       "1022          1.664                   5.4         0.0  \n",
       "440           2.175                  18.9         1.0  \n",
       "728            3.47                  52.8         2.0  "
      ]
     },
     "execution_count": 45,
     "metadata": {},
     "output_type": "execute_result"
    }
   ],
   "source": [
    "sortedGbt = gbt1.sort_values(by=['Year', 'Total Population'], ascending=[False, False])\n",
    "sortedGbt.head()"
   ]
  },
  {
   "cell_type": "markdown",
   "id": "7c7fc8b2-0f6c-40c8-9bc0-0ec5f46895df",
   "metadata": {},
   "source": [
    "## Выведите название страны, которая имеет максимальную численность населения"
   ]
  },
  {
   "cell_type": "code",
   "execution_count": 47,
   "id": "b8108b79-693e-4c0a-bf1b-f0823cb6d9a8",
   "metadata": {
    "tags": []
   },
   "outputs": [
    {
     "name": "stdout",
     "output_type": "stream",
     "text": [
      "China\n"
     ]
    }
   ],
   "source": [
    "max_population_country = sortedGbt.iloc[0]['Country']\n",
    "print(max_population_country)"
   ]
  },
  {
   "cell_type": "markdown",
   "id": "76430ccb-764c-4428-b4a9-0051e68e2bf4",
   "metadata": {},
   "source": [
    "## Выведите название страны, которая имеет минимальную численность населения"
   ]
  },
  {
   "cell_type": "code",
   "execution_count": 46,
   "id": "3668d29c-51e3-46be-a475-ff043febb5e4",
   "metadata": {
    "tags": []
   },
   "outputs": [
    {
     "name": "stdout",
     "output_type": "stream",
     "text": [
      "Tuvalu\n"
     ]
    }
   ],
   "source": [
    "min_population_country = sortedGbt.iloc[-1]['Country']\n",
    "print(min_population_country)"
   ]
  },
  {
   "cell_type": "markdown",
   "id": "46e75394-c2cc-466b-be3d-c2fdf03b964a",
   "metadata": {},
   "source": [
    "## Экспорт фрейма в MS Excel"
   ]
  },
  {
   "cell_type": "code",
   "execution_count": 30,
   "id": "84a832ad-2fd9-416a-a961-48ddf02102d3",
   "metadata": {
    "tags": []
   },
   "outputs": [],
   "source": [
    "gbt1.to_excel(\"Global_Population_Trends.xlsx\", index=False, engine='openpyxl')"
   ]
  }
 ],
 "metadata": {
  "kernelspec": {
   "display_name": "Python 3 (ipykernel)",
   "language": "python",
   "name": "python3"
  },
  "language_info": {
   "codemirror_mode": {
    "name": "ipython",
    "version": 3
   },
   "file_extension": ".py",
   "mimetype": "text/x-python",
   "name": "python",
   "nbconvert_exporter": "python",
   "pygments_lexer": "ipython3",
   "version": "3.11.4"
  }
 },
 "nbformat": 4,
 "nbformat_minor": 5
}
