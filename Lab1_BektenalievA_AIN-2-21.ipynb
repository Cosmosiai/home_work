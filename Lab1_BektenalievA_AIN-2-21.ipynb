{
 "cells": [
  {
   "cell_type": "code",
   "execution_count": 1,
   "id": "0c4954d3",
   "metadata": {},
   "outputs": [
    {
     "name": "stdout",
     "output_type": "stream",
     "text": [
      "hello\n"
     ]
    }
   ],
   "source": [
    "#функция вывода в консоль\n",
    "print('hello')"
   ]
  },
  {
   "cell_type": "code",
   "execution_count": 6,
   "id": "45696d57",
   "metadata": {},
   "outputs": [],
   "source": [
    "#проверка функции\n",
    "print?"
   ]
  },
  {
   "cell_type": "code",
   "execution_count": 4,
   "id": "8909b6a1",
   "metadata": {},
   "outputs": [
    {
     "name": "stdout",
     "output_type": "stream",
     "text": [
      "2\n"
     ]
    }
   ],
   "source": [
    "#создание переменной и вывод в консоль\n",
    "i=8\n",
    "print(i)"
   ]
  },
  {
   "cell_type": "code",
   "execution_count": 5,
   "id": "0164260f",
   "metadata": {},
   "outputs": [
    {
     "name": "stdout",
     "output_type": "stream",
     "text": [
      "8\n"
     ]
    }
   ],
   "source": [
    "#использование старой переменной для создания новой и вывода в консоль\n",
    "c=i+6\n",
    "print(c)"
   ]
  },
  {
   "cell_type": "markdown",
   "id": "2917dd42",
   "metadata": {},
   "source": [
    "# неисполняемые строки 1 уровня\n",
    "## неисполняемые строки 2 уровня\n",
    "*ссылки для [поиска видео](https://www.youtube.com)\n",
    "*по ссылке можно искать видео"
   ]
  },
  {
   "cell_type": "markdown",
   "id": "5b9832de-ce6c-4c0e-a557-eb3e58699d96",
   "metadata": {
    "tags": []
   },
   "source": [
    "## Переменные типы данных"
   ]
  },
  {
   "cell_type": "code",
   "execution_count": 2,
   "id": "0d55dae1",
   "metadata": {
    "tags": []
   },
   "outputs": [
    {
     "name": "stdout",
     "output_type": "stream",
     "text": [
      "<class 'int'>\n"
     ]
    }
   ],
   "source": [
    "a=10\n",
    "t=type(a)\n",
    "print (t)\n"
   ]
  },
  {
   "cell_type": "code",
   "execution_count": 4,
   "id": "69f55cf1-0007-4ca9-85e6-d79c0cb4de29",
   "metadata": {
    "tags": []
   },
   "outputs": [],
   "source": [
    "i=10"
   ]
  },
  {
   "cell_type": "code",
   "execution_count": 14,
   "id": "b47ab378-c445-4e31-a6e1-1e4290a23416",
   "metadata": {
    "tags": []
   },
   "outputs": [
    {
     "data": {
      "text/plain": [
       "int"
      ]
     },
     "execution_count": 14,
     "metadata": {},
     "output_type": "execute_result"
    }
   ],
   "source": [
    "type(i)"
   ]
  },
  {
   "cell_type": "code",
   "execution_count": 15,
   "id": "2ae35b18-1e2b-4155-879f-83c444364371",
   "metadata": {
    "tags": []
   },
   "outputs": [],
   "source": [
    "f=2.1"
   ]
  },
  {
   "cell_type": "raw",
   "id": "c744499b-7e13-469b-982a-897bed1ec4ca",
   "metadata": {},
   "source": [
    "type(f)"
   ]
  },
  {
   "cell_type": "code",
   "execution_count": null,
   "id": "fe005a82-1ce9-40c2-a357-430db44ef0f3",
   "metadata": {},
   "outputs": [],
   "source": []
  },
  {
   "cell_type": "code",
   "execution_count": 19,
   "id": "ecd53b1b-1606-4254-8c57-68f3443f51db",
   "metadata": {
    "tags": []
   },
   "outputs": [
    {
     "data": {
      "text/plain": [
       "bool"
      ]
     },
     "execution_count": 19,
     "metadata": {},
     "output_type": "execute_result"
    }
   ],
   "source": [
    "b=True\n",
    "type(b)"
   ]
  },
  {
   "cell_type": "code",
   "execution_count": 20,
   "id": "b1470168-0de3-4d73-8dfa-0b25e9bc2282",
   "metadata": {
    "tags": []
   },
   "outputs": [
    {
     "name": "stdout",
     "output_type": "stream",
     "text": [
      "Mamma Mia!\n"
     ]
    }
   ],
   "source": [
    "s='Mamma Mia!'\n",
    "print(s)"
   ]
  },
  {
   "cell_type": "markdown",
   "id": "e2652920-ec03-4802-82ea-de0b8037f935",
   "metadata": {},
   "source": [
    "## Продвинутые типы данных"
   ]
  },
  {
   "cell_type": "code",
   "execution_count": 23,
   "id": "fdebc867-b3d8-441a-94d1-63de4b866034",
   "metadata": {
    "tags": []
   },
   "outputs": [],
   "source": [
    "l=[1,2,3]"
   ]
  },
  {
   "cell_type": "code",
   "execution_count": 24,
   "id": "2a72428e-500c-48a8-8c1b-13a50b4c60a0",
   "metadata": {
    "tags": []
   },
   "outputs": [
    {
     "name": "stdout",
     "output_type": "stream",
     "text": [
      "[1, 2, 3]\n"
     ]
    }
   ],
   "source": [
    "print(l)"
   ]
  },
  {
   "cell_type": "code",
   "execution_count": 25,
   "id": "e454483a-ac12-4e7f-9587-13e074d0886c",
   "metadata": {
    "tags": []
   },
   "outputs": [
    {
     "name": "stdout",
     "output_type": "stream",
     "text": [
      "{'hello': 1, 'python': 0.12, 'world': 'yeah, boy'}\n"
     ]
    }
   ],
   "source": [
    "d={'hello':1,'python':0.12,'world':'yeah, boy'}\n",
    "print(d)"
   ]
  },
  {
   "cell_type": "code",
   "execution_count": null,
   "id": "f456f9d3-b4a2-47b1-872e-c76dadf898f4",
   "metadata": {},
   "outputs": [],
   "source": []
  },
  {
   "cell_type": "markdown",
   "id": "1b6196e8-c53e-4d61-b98a-d89bdf779abf",
   "metadata": {},
   "source": [
    "## Библиотека Math"
   ]
  },
  {
   "cell_type": "code",
   "execution_count": 30,
   "id": "aa43113e-e75d-449f-8c60-bf5e97185db3",
   "metadata": {
    "tags": []
   },
   "outputs": [
    {
     "name": "stdout",
     "output_type": "stream",
     "text": [
      "Возведение числа 10 в квадрат равно  100.0\n",
      "Получения синуса числа 100 равно -0.5063656411097588\n"
     ]
    }
   ],
   "source": [
    "import math\n",
    "\n",
    "p=math.pow(10,2)\n",
    "print('Возведение числа 10 в квадрат равно ', p)\n",
    "print ('Получения синуса числа 100 равно', math.sin(100))"
   ]
  },
  {
   "cell_type": "code",
   "execution_count": null,
   "id": "0193e89a-ee2b-4482-aff3-1d7f8263e35f",
   "metadata": {},
   "outputs": [],
   "source": []
  },
  {
   "cell_type": "markdown",
   "id": "0b7699b6-cc5f-4d9f-b08a-04db29533df1",
   "metadata": {},
   "source": [
    "## Продвинутое использование функции print()"
   ]
  },
  {
   "cell_type": "code",
   "execution_count": 32,
   "id": "34127c44-2e31-4cb9-b712-ad2b8aac4d47",
   "metadata": {
    "tags": []
   },
   "outputs": [
    {
     "name": "stdout",
     "output_type": "stream",
     "text": [
      "Раньше люди думали, что солнце это Апполон, а луна - Артемида\n"
     ]
    }
   ],
   "source": [
    "one = 'луна'\n",
    "two = 'солнце'\n",
    "\n",
    "print ('Раньше люди думали, что %s это Апполон, а %s - Артемида'%(two,one))"
   ]
  },
  {
   "cell_type": "code",
   "execution_count": null,
   "id": "7bb84fba-e4bc-429f-b554-e4d569783aad",
   "metadata": {},
   "outputs": [],
   "source": []
  },
  {
   "cell_type": "markdown",
   "id": "e1955e79-b142-41b6-997b-b3cdbb7ee5a6",
   "metadata": {},
   "source": [
    "## Операторы Python"
   ]
  },
  {
   "cell_type": "code",
   "execution_count": 38,
   "id": "cf0cf6e7-b5eb-44ee-866a-25570b626e30",
   "metadata": {
    "tags": []
   },
   "outputs": [
    {
     "name": "stdout",
     "output_type": "stream",
     "text": [
      "57 больше, чем 5\n"
     ]
    }
   ],
   "source": [
    "import random\n",
    "one = random.randint(0,101)\n",
    "two = random.randint(0,101)\n",
    "if one>two:\n",
    "    print ('%s больше, чем %s'%(one,two))\n",
    "elif two>one:\n",
    "    print ('%s больше, чем %s'%(two,one))\n",
    "else: (\"Значения равны\")"
   ]
  },
  {
   "cell_type": "code",
   "execution_count": null,
   "id": "79470d48-a3a9-4977-b91b-b6a6008cc05d",
   "metadata": {},
   "outputs": [],
   "source": []
  },
  {
   "cell_type": "markdown",
   "id": "f6d918fd-e646-4e82-8c0c-53dc26e9c59a",
   "metadata": {},
   "source": [
    "## Операторы for"
   ]
  },
  {
   "cell_type": "code",
   "execution_count": null,
   "id": "26819d9a-3dcf-4dc7-9da1-c6ff65e32359",
   "metadata": {},
   "outputs": [],
   "source": [
    "l=[1,2,3,4,5]\n",
    "for i in l:\n",
    "    print (i)"
   ]
  },
  {
   "cell_type": "code",
   "execution_count": 40,
   "id": "57d869f6-3fad-4961-aecc-7a5960377b0d",
   "metadata": {
    "tags": []
   },
   "outputs": [
    {
     "name": "stdout",
     "output_type": "stream",
     "text": [
      "Это число 0\n",
      "Это число 1\n",
      "Это число 2\n",
      "Это число 3\n",
      "Это число 4\n",
      "Это число 5\n",
      "Это число 6\n",
      "Это число 7\n",
      "Это число 8\n",
      "Это число 9\n",
      "Это число 10\n",
      "Это число 11\n",
      "Это число 12\n",
      "Это число 13\n",
      "Это число 14\n",
      "Это число 15\n",
      "Это число 16\n",
      "Это число 17\n",
      "Это число 18\n",
      "Это число 19\n",
      "Это число 20\n",
      "Это число 21\n",
      "Это число 22\n",
      "Это число 23\n",
      "Это число 24\n",
      "Это число 25\n",
      "Это число 26\n",
      "Это число 27\n",
      "Это число 28\n",
      "Это число 29\n",
      "Это число 30\n",
      "Это число 31\n",
      "Это число 32\n",
      "Это число 33\n",
      "Это число 34\n",
      "Это число 35\n",
      "Это число 36\n",
      "Это число 37\n",
      "Это число 38\n",
      "Это число 39\n",
      "Это число 40\n",
      "Это число 41\n",
      "Это число 42\n",
      "Это число 43\n",
      "Это число 44\n",
      "Это число 45\n",
      "Это число 46\n",
      "Это число 47\n",
      "Это число 48\n",
      "Это число 49\n",
      "Это число 50\n",
      "Это число 51\n",
      "Это число 52\n",
      "Это число 53\n",
      "Это число 54\n",
      "Это число 55\n",
      "Это число 56\n",
      "Это число 57\n",
      "Это число 58\n",
      "Это число 59\n",
      "Это число 60\n",
      "Это число 61\n",
      "Это число 62\n",
      "Это число 63\n",
      "Это число 64\n",
      "Это число 65\n",
      "Это число 66\n",
      "Это число 67\n",
      "Это число 68\n",
      "Это число 69\n",
      "Это число 70\n",
      "Это число 71\n",
      "Это число 72\n",
      "Это число 73\n",
      "Это число 74\n",
      "Это число 75\n",
      "Это число 76\n",
      "Это число 77\n",
      "Это число 78\n",
      "Это число 79\n",
      "Это число 80\n",
      "Это число 81\n",
      "Это число 82\n",
      "Это число 83\n",
      "Это число 84\n",
      "Это число 85\n",
      "Это число 86\n",
      "Это число 87\n",
      "Это число 88\n",
      "Это число 89\n",
      "Это число 90\n",
      "Это число 91\n",
      "Это число 92\n",
      "Это число 93\n",
      "Это число 94\n",
      "Это число 95\n",
      "Это число 96\n",
      "Это число 97\n",
      "Это число 98\n",
      "Это число 99\n"
     ]
    }
   ],
   "source": [
    "for i in range(100):\n",
    "    print('Это число %s'%(i))"
   ]
  },
  {
   "cell_type": "code",
   "execution_count": 41,
   "id": "d5c43f2f-a21b-4ffd-8c10-8bc29a81b6ce",
   "metadata": {
    "tags": []
   },
   "outputs": [
    {
     "name": "stdout",
     "output_type": "stream",
     "text": [
      "секунда 0\n",
      "секунда 1\n",
      "секунда 2\n",
      "секунда 3\n",
      "секунда 4\n",
      "секунда 5\n",
      "секунда 6\n",
      "секунда 7\n",
      "секунда 8\n",
      "секунда 9\n"
     ]
    }
   ],
   "source": [
    "import time\n",
    "for i in range (10):\n",
    "    time.sleep(1)\n",
    "    print('секунда %s'%(i))\n"
   ]
  },
  {
   "cell_type": "code",
   "execution_count": 53,
   "id": "e9a93afd-aea5-4782-95db-4605e068b878",
   "metadata": {
    "tags": []
   },
   "outputs": [
    {
     "name": "stdout",
     "output_type": "stream",
     "text": [
      "Это итерация №10\n",
      "Это итерация №9\n",
      "Это итерация №8\n",
      "Это итерация №7\n",
      "Это итерация №6\n",
      "Это итерация №5\n",
      "Это итерация №4\n",
      "Это итерация №3\n",
      "Это итерация №2\n",
      "Это итерация №1\n"
     ]
    }
   ],
   "source": [
    "o=10\n",
    "while o>0:\n",
    "    print('Это итерация №%s'%(o))\n",
    "    o-=1"
   ]
  },
  {
   "cell_type": "markdown",
   "id": "46ece00e-fb86-472a-8403-00b3aef2893f",
   "metadata": {},
   "source": [
    "## Функции в Python"
   ]
  },
  {
   "cell_type": "code",
   "execution_count": 57,
   "id": "0a003d0b-7d92-45fd-aa2f-55c5971c3e06",
   "metadata": {
    "tags": []
   },
   "outputs": [
    {
     "name": "stdout",
     "output_type": "stream",
     "text": [
      "Введите x\n"
     ]
    },
    {
     "name": "stdin",
     "output_type": "stream",
     "text": [
      "None 1\n"
     ]
    },
    {
     "name": "stdout",
     "output_type": "stream",
     "text": [
      "Введите y\n"
     ]
    },
    {
     "name": "stdin",
     "output_type": "stream",
     "text": [
      "None 2\n"
     ]
    },
    {
     "name": "stdout",
     "output_type": "stream",
     "text": [
      "3\n"
     ]
    }
   ],
   "source": [
    "def sum2(x,y):\n",
    "    print(x+y)\n",
    "    \n",
    "q=int(input(print(\"Введите x\")))\n",
    "u=int(input(print(\"Введите y\")))\n",
    "sum2(q,u)"
   ]
  },
  {
   "cell_type": "code",
   "execution_count": null,
   "id": "09c776eb-4738-4192-a71b-1581ba88f1be",
   "metadata": {},
   "outputs": [],
   "source": []
  },
  {
   "cell_type": "markdown",
   "id": "cffd54b0-519a-4344-92c4-521e44d731eb",
   "metadata": {},
   "source": [
    "## Дополнительные возможности juptiter"
   ]
  },
  {
   "cell_type": "markdown",
   "id": "faa3d5ac-dae6-41e1-91a8-8fac8b01044d",
   "metadata": {
    "tags": []
   },
   "source": [
    "<h1> Hello </h1>\n",
    "<h2> Hello </h2>\n",
    "<h3> Hello </h3>\n",
    "<h4> Hello </h4>\n",
    "<h5> Hello </h5>\n",
    "<h6> Hello </h6>"
   ]
  },
  {
   "cell_type": "markdown",
   "id": "9dd36c61-2f69-4e4d-adac-4feb615f107e",
   "metadata": {
    "tags": []
   },
   "source": [
    "<img src='jupiter.jpg' width=800>"
   ]
  },
  {
   "cell_type": "markdown",
   "id": "05223dcb-61a8-4bcb-9c32-70983e9114cf",
   "metadata": {
    "tags": []
   },
   "source": [
    "\\begin {equation*}\n",
    "\\left(sum_{k-1}^n a_k b_k\\right)^2\n",
    "\\end {equation*}"
   ]
  },
  {
   "cell_type": "markdown",
   "id": "807b2134-30fc-493b-b385-b1d8f0befcbd",
   "metadata": {},
   "source": []
  },
  {
   "cell_type": "markdown",
   "id": "e783a446-8601-40ca-ac67-f64f46ca249c",
   "metadata": {
    "tags": []
   },
   "source": [
    "\\begin {equation*}\n",
    "\\(E=mc^2\\)\n",
    "\\end {equation*}"
   ]
  },
  {
   "cell_type": "code",
   "execution_count": null,
   "id": "4842f1f6-c5b7-497e-b8f8-c73ba2a52846",
   "metadata": {},
   "outputs": [],
   "source": []
  }
 ],
 "metadata": {
  "kernelspec": {
   "display_name": "Python 3 (ipykernel)",
   "language": "python",
   "name": "python3"
  },
  "language_info": {
   "codemirror_mode": {
    "name": "ipython",
    "version": 3
   },
   "file_extension": ".py",
   "mimetype": "text/x-python",
   "name": "python",
   "nbconvert_exporter": "python",
   "pygments_lexer": "ipython3",
   "version": "3.11.4"
  }
 },
 "nbformat": 4,
 "nbformat_minor": 5
}
